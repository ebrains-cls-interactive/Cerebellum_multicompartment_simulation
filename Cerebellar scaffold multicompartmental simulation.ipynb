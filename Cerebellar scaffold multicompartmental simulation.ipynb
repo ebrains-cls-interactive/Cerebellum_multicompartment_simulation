{
 "cells": [
  {
   "cell_type": "code",
   "execution_count": null,
   "metadata": {},
   "outputs": [],
   "source": [
    "import sys\n",
    "!{sys.executable} -m pip install bsb[mpi,neuron]==3.7.7 NEURON==8.0.0 nrn-glia==0.3.9 nrn-patch==3.0.0b6 dbbs-models==1.5.0rc0 arborize==2.0.0b8 pynb-sim==0.2.0 --quiet"
   ]
  },
  {
   "cell_type": "markdown",
   "metadata": {},
   "source": [
    "# Cerebellar scaffold with multicompartmental simulations\n",
    "\n",
    "This use-case demonstrates a simulation of the cerebellar cortex using multicompartmental neuron models. The network is constructed using our scaffold approach network builder. The example is kept small to keep execution times low for this single-core notebook context."
   ]
  },
  {
   "cell_type": "markdown",
   "metadata": {},
   "source": [
    "## Notebook structure\n",
    "\n",
    "1. Code setup\n",
    "    2. [Network construction](#Network-construction)\n",
    "    3. [Network simulation](#Network-simulation)\n",
    "2. Analysis\n",
    "    1. [Voltage recordings](#Voltage-recordings)\n",
    "    2. [Spike raster](#Spike-raster)\n",
    "\n",
    "## Code setup"
   ]
  },
  {
   "cell_type": "markdown",
   "metadata": {},
   "source": [
    "### Network construction\n",
    "\n",
    "The `bsb` package can reconstruct networks based on a configuration file. For multicompartmental models it also requires an extra HDF5 file containing processed morphologies. For this notebook we provide `morphologies.hdf5` containing the cerebellar granule cell, Golgi cell, Purkinje cell, stellate cell and basket cell. \n",
    "\n",
    "We're going to create a new configuration file based on the template `mouse_cerebellum_cortex.json`:"
   ]
  },
  {
   "cell_type": "code",
   "execution_count": null,
   "metadata": {},
   "outputs": [],
   "source": [
    "!bsb make-config -t mouse_cerebellum_cortex.json network_configuration.json"
   ]
  },
  {
   "cell_type": "markdown",
   "metadata": {},
   "source": [
    "And compile a network from it (this may take up to 10 minutes):"
   ]
  },
  {
   "cell_type": "code",
   "execution_count": null,
   "metadata": {},
   "outputs": [],
   "source": [
    "!bsb -v 3 compile -x 50 -z 50"
   ]
  },
  {
   "cell_type": "markdown",
   "metadata": {
    "tags": []
   },
   "source": [
    "#### Full network plot (only cell soma)\n",
    "\n",
    "<span style=\"color: darkred\">Attention!</span> These are heavy plots and might take long to load or cause the notebook to become unresponsive. <span style=\"color: red\">DO NOT</span> save the notebook with these outputs present! When opening the notebook all plots will be loaded simultaneously and will surely cause the notebook to crash."
   ]
  },
  {
   "cell_type": "code",
   "execution_count": null,
   "metadata": {},
   "outputs": [],
   "source": [
    "from bsb.core import from_hdf5\n",
    "from bsb.plotting import plot_network\n",
    "network = from_hdf5(\"mouse_cerebellum_cortex.hdf5\")\n",
    "plot_network(network, from_memory=False);"
   ]
  },
  {
   "cell_type": "markdown",
   "metadata": {},
   "source": [
    "#### Granular layer neurons\n",
    "\n",
    "<span style=\"color: darkred\">Attention!</span> These are heavy plots and might take long to load or cause the notebook to become unresponsive. <span style=\"color: red\">DO NOT</span> save the notebook with these outputs present! When opening the notebook all plots will be loaded simultaneously and will surely cause the notebook to crash."
   ]
  },
  {
   "cell_type": "code",
   "execution_count": null,
   "metadata": {},
   "outputs": [],
   "source": [
    "from bsb.core import from_hdf5\n",
    "from bsb.plotting import plot_detailed_network\n",
    "import numpy as np\n",
    "network = from_hdf5(\"mouse_cerebellum_cortex.hdf5\")\n",
    "ids = np.array([network.get_placement_set(\"golgi_cell\").identifiers[0], *network.get_placement_set(\"granule_cell\").identifiers[0:5]])\n",
    "plot_detailed_network(network, ids=ids);"
   ]
  },
  {
   "cell_type": "markdown",
   "metadata": {},
   "source": [
    "#### Molecular layer neurons\n",
    "\n",
    "<span style=\"color: darkred\">Attention!</span> These are heavy plots and might take long to load or cause the notebook to become unresponsive. <span style=\"color: red\">DO NOT</span> save the notebook with these outputs present! When opening the notebook all plots will be loaded simultaneously and will surely cause the notebook to crash."
   ]
  },
  {
   "cell_type": "code",
   "execution_count": null,
   "metadata": {},
   "outputs": [],
   "source": [
    "from bsb.core import from_hdf5\n",
    "from bsb.plotting import plot_detailed_network\n",
    "import numpy as np\n",
    "network = from_hdf5(\"mouse_cerebellum_cortex.hdf5\")\n",
    "ids = np.array([*network.get_placement_set(\"purkinje_cell\").identifiers[:2], *network.get_placement_set(\"stellate_cell\").identifiers[:2]])\n",
    "plot_detailed_network(network, ids=ids);"
   ]
  },
  {
   "cell_type": "markdown",
   "metadata": {},
   "source": [
    "### Network simulation\n",
    "\n",
    "After construction the network file `mouse_cerebellum_cortex.hdf5` now contains all the information required to run the simulation in parallel. On your own machine you can run a simulation using this command (after installing MPI):\n",
    "\n",
    "    mpiexec -n <number of cores> bsb -v=3 simulate sensory_burst --hdf5=mouse_cerebellum_cortex.hdf5\n",
    "\n",
    "In this notebook we will be simulating on just 1 core:"
   ]
  },
  {
   "cell_type": "code",
   "execution_count": null,
   "metadata": {},
   "outputs": [],
   "source": [
    "# This patches the incorrect Collab 2 cache path\n",
    "import os; os.environ[\"XDG_CACHE_HOME\"] = os.path.join(os.getcwd(), \".cache\")\n",
    "!bsb -v=3 simulate sensory_burst --hdf5 mouse_cerebellum_cortex.hdf5"
   ]
  },
  {
   "cell_type": "markdown",
   "metadata": {},
   "source": [
    "## Analysis\n",
    "\n",
    "The simulation outputs its recordings into an HDF5 file with 2 categories of `recorders`: `spike_recorder`s and `voltage_recorder`s. In the configuration file spike and voltage recorders have been requested for each cell at the soma.\n"
   ]
  },
  {
   "cell_type": "markdown",
   "metadata": {},
   "source": [
    "### Spike raster\n",
    "\n",
    "Shows the activity of all cells during the entire simulation."
   ]
  },
  {
   "cell_type": "code",
   "execution_count": null,
   "metadata": {},
   "outputs": [],
   "source": [
    "from bsb.plotting import hdf5_plot_spike_raster\n",
    "from h5py import File\n",
    "\n",
    "with File(\"results_sensory_burst.hdf5\", \"r\") as f:\n",
    "    # Plot the spike raster\n",
    "    hdf5_plot_spike_raster(f[\"/recorders/soma_spikes\"], input_region=[6000, 6050])"
   ]
  },
  {
   "cell_type": "markdown",
   "metadata": {},
   "source": [
    "### Voltage recordings\n",
    "\n",
    "Shows the membrane potential at the soma."
   ]
  },
  {
   "cell_type": "code",
   "execution_count": null,
   "metadata": {},
   "outputs": [],
   "source": [
    "from bsb.plotting import hdf5_gather_voltage_traces, plot_traces\n",
    "from h5py import File\n",
    "\n",
    "with File(\"results_sensory_burst.hdf5\", \"r\") as f:\n",
    "    # Collect traces from cells across multiple recording groups.\n",
    "    cell_traces = hdf5_gather_voltage_traces(f, \"/recorders/\", [\"soma_voltages\"])\n",
    "    cell_traces.set_legends([\"Soma (mV)\"])\n",
    "    cell_traces.set_colors([\"Crimson\"])\n",
    "    plot_traces(cell_traces, input_region=[6000, 6050])"
   ]
  }
 ],
 "metadata": {
  "@webio": {
   "lastCommId": null,
   "lastKernelId": null
  },
  "kernelspec": {
   "display_name": "Python 3 (ipykernel)",
   "language": "python",
   "name": "python3"
  },
  "language_info": {
   "codemirror_mode": {
    "name": "ipython",
    "version": 3
   },
   "file_extension": ".py",
   "mimetype": "text/x-python",
   "name": "python",
   "nbconvert_exporter": "python",
   "pygments_lexer": "ipython3",
   "version": "3.8.10"
  }
 },
 "nbformat": 4,
 "nbformat_minor": 4
}
